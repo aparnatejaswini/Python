{
 "cells": [
  {
   "cell_type": "markdown",
   "metadata": {},
   "source": [
    "# First Class Functions"
   ]
  },
  {
   "cell_type": "markdown",
   "metadata": {},
   "source": [
    "A programming language is said to have first-class functions if it treats functions as first-class citizens.(from wikipedia)\n",
    "\n",
    "__First-Class Citizens__: A first-class citizen (also type, object, entity, or value) in a given programming language is an entity which supports all the operations generally available to other entities. These operations typically include __being passed as an argument, returned from a function, modified, and assigned to a variable__. (from wikipedia)\n",
    "\n",
    "We should be able to treat functions just like any other object or a variable."
   ]
  },
  {
   "cell_type": "code",
   "execution_count": 1,
   "metadata": {},
   "outputs": [
    {
     "name": "stdout",
     "output_type": "stream",
     "text": [
      "<function square at 0x0000018BC99B4820>\n",
      "25\n"
     ]
    }
   ],
   "source": [
    "def square(x):\n",
    "    return x*x\n",
    "\n",
    "f = square(5)\n",
    "\n",
    "print(square)\n",
    "print(f)"
   ]
  },
  {
   "cell_type": "code",
   "execution_count": 5,
   "metadata": {},
   "outputs": [
    {
     "name": "stdout",
     "output_type": "stream",
     "text": [
      "<function square at 0x0000018BC9A72D30>\n",
      "<function square at 0x0000018BC9A72D30>\n",
      "25\n"
     ]
    }
   ],
   "source": [
    "def square(x):\n",
    "    return x*x\n",
    "\n",
    "f = square # \n",
    "\n",
    "print(square)\n",
    "print(f)\n",
    "\n",
    "print(f(5))"
   ]
  },
  {
   "cell_type": "markdown",
   "metadata": {},
   "source": [
    "If a function accepts other functions as arguments or returns functions as their result i.e a __higher-order function__."
   ]
  },
  {
   "cell_type": "markdown",
   "metadata": {},
   "source": [
    "# Passing a function as an argument to another function\n",
    "\n",
    "Ex: map function"
   ]
  },
  {
   "cell_type": "code",
   "execution_count": 7,
   "metadata": {},
   "outputs": [
    {
     "name": "stdout",
     "output_type": "stream",
     "text": [
      "[1, 4, 9, 16, 25]\n",
      "[1, 8, 27, 64, 125]\n"
     ]
    }
   ],
   "source": [
    "def square(x):\n",
    "    return x*x\n",
    "\n",
    "def cube(x):\n",
    "    return x*x*x\n",
    "\n",
    "def my_map(func, arg_list): \n",
    "    result =[]\n",
    "    for i in arg_list:\n",
    "        result.append(func(i))\n",
    "    return result\n",
    "        \n",
    "l=[1, 2, 3, 4, 5]\n",
    "squares = my_map(square, l)\n",
    "cubes = my_map(cube, l)\n",
    "print(squares)\n",
    "print(cubes)"
   ]
  },
  {
   "cell_type": "markdown",
   "metadata": {},
   "source": [
    "# Return a function from another function"
   ]
  },
  {
   "cell_type": "code",
   "execution_count": 8,
   "metadata": {},
   "outputs": [
    {
     "name": "stdout",
     "output_type": "stream",
     "text": [
      "Log:  Hi\n"
     ]
    }
   ],
   "source": [
    "def logger(msg):\n",
    "    \n",
    "    def log_message():\n",
    "        print('Log: ', msg)\n",
    "        \n",
    "    return log_message\n",
    "\n",
    "log_hi = logger('Hi')\n",
    "log_hi()"
   ]
  },
  {
   "cell_type": "markdown",
   "metadata": {},
   "source": [
    "Why would returning a function from another function like this be useful?\n",
    "\n",
    "  Ex:  Logging, Decorators"
   ]
  },
  {
   "cell_type": "code",
   "execution_count": 9,
   "metadata": {},
   "outputs": [
    {
     "name": "stdout",
     "output_type": "stream",
     "text": [
      "<h1>This is heading</h1>\n",
      "<p>This is Paragraph</p>\n"
     ]
    }
   ],
   "source": [
    "def html_tag(tag):\n",
    "    \n",
    "    def wrap_text(msg):\n",
    "        print('<{0}>{1}</{0}>'.format(tag, msg))\n",
    "    \n",
    "    return wrap_text\n",
    "\n",
    "print_h1 = html_tag('h1')\n",
    "print_h1('This is heading')\n",
    "\n",
    "print_p = html_tag('p')\n",
    "print_p('This is Paragraph')"
   ]
  },
  {
   "cell_type": "markdown",
   "metadata": {},
   "source": [
    "# Closures\n",
    "\n",
    "A closure is a record storing a function together with an environment. The environment is a mapping associating each free variable of the function (variables that are used locally, but defined in an enclosing scope) with the value or reference to which the name was bound when the closure was created. Unlike a plain function, a closure allows the function to access those captured variables through the closure's copies of their values or references, even when the function is invoked outside their scope. (from wikipedia)"
   ]
  },
  {
   "cell_type": "code",
   "execution_count": 14,
   "metadata": {},
   "outputs": [
    {
     "name": "stdout",
     "output_type": "stream",
     "text": [
      "Hi\n"
     ]
    }
   ],
   "source": [
    "def outer_func():\n",
    "    message = 'Hi'\n",
    "    \n",
    "    def inner_func():\n",
    "        print(message)\n",
    "        \n",
    "    return inner_func() #executed function\n",
    "\n",
    "outer_func()"
   ]
  },
  {
   "cell_type": "code",
   "execution_count": 16,
   "metadata": {},
   "outputs": [
    {
     "name": "stdout",
     "output_type": "stream",
     "text": [
      "inner_func\n",
      "Hi\n"
     ]
    }
   ],
   "source": [
    "def outer_func():\n",
    "    message = 'Hi'\n",
    "    \n",
    "    def inner_func():\n",
    "        print(message)\n",
    "        \n",
    "    return inner_func #function that is waiting to be executed\n",
    "\n",
    "my_func = outer_func()\n",
    "print(my_func.__name__)\n",
    "my_func()"
   ]
  },
  {
   "cell_type": "markdown",
   "metadata": {},
   "source": [
    "__Closure is an inner function that remembers and has access to variables in the local scope in which it was created even after the outer function has finished executing__."
   ]
  },
  {
   "cell_type": "code",
   "execution_count": 17,
   "metadata": {},
   "outputs": [
    {
     "name": "stdout",
     "output_type": "stream",
     "text": [
      "Hi\n",
      "Hello\n"
     ]
    }
   ],
   "source": [
    "def outer_func(msg):\n",
    "    \n",
    "    def inner_func():\n",
    "        print(msg)\n",
    "        \n",
    "    return inner_func\n",
    "\n",
    "hi_func = outer_func('Hi')\n",
    "hello_func = outer_func('Hello')\n",
    "hi_func()\n",
    "hello_func()"
   ]
  },
  {
   "cell_type": "code",
   "execution_count": 18,
   "metadata": {},
   "outputs": [
    {
     "name": "stdout",
     "output_type": "stream",
     "text": [
      "6\n",
      "9\n",
      "2\n",
      "10\n"
     ]
    }
   ],
   "source": [
    "import logging\n",
    "logging.basicConfig(filename='example.log', level= logging.INFO)\n",
    "\n",
    "def logger(func):\n",
    "    def log_func(*args):\n",
    "        logging.info(\n",
    "            'Running \"{}\" function with arguments: {}'.format(func.__name__, args))\n",
    "        print(func(*args))\n",
    "    return log_func\n",
    "\n",
    "def add(x, y):\n",
    "    return x+y\n",
    "\n",
    "def sub(x, y):\n",
    "    return x-y\n",
    "\n",
    "add_logger = logger(add)\n",
    "sub_logger = logger(sub)\n",
    "\n",
    "add_logger(3,3)\n",
    "add_logger(4,5)\n",
    "\n",
    "sub_logger(5,3)\n",
    "sub_logger(20,10)"
   ]
  },
  {
   "cell_type": "markdown",
   "metadata": {},
   "source": [
    "# Decorators\n",
    "\n",
    " A decorator is a function that takes another function as an argument and adds some kind of functionality and then returns another function. All of this without altering the source code of the original function that we passed in."
   ]
  },
  {
   "cell_type": "code",
   "execution_count": 23,
   "metadata": {},
   "outputs": [
    {
     "name": "stdout",
     "output_type": "stream",
     "text": [
      "Wrapper executed this before display\n",
      "****\n",
      "Display function ran\n"
     ]
    }
   ],
   "source": [
    "def decorator_function(original_func):\n",
    "    def wrapper_function(): ##adds additional functionality to original_func\n",
    "        print(\"Wrapper executed this before {}\".format(original_func.__name__))\n",
    "        print(\"****\")\n",
    "        return original_func()\n",
    "    return wrapper_function\n",
    "\n",
    "def display():\n",
    "    print(\"Display function ran\")\n",
    "    \n",
    "decorated_display = decorator_function(display)\n",
    "decorated_display()"
   ]
  },
  {
   "cell_type": "markdown",
   "metadata": {},
   "source": [
    " decorator_function returns a wrapper_function to be executed, when it is executed, it executes the original_func()"
   ]
  },
  {
   "cell_type": "code",
   "execution_count": 27,
   "metadata": {},
   "outputs": [
    {
     "name": "stdout",
     "output_type": "stream",
     "text": [
      "Wrapper executed this before display\n",
      "****\n",
      "Display function ran\n"
     ]
    }
   ],
   "source": [
    "def decorator_function(original_func):\n",
    "    def wrapper_function():\n",
    "        print(\"Wrapper executed this before {}\".format(original_func.__name__))\n",
    "        print(\"****\")\n",
    "        return original_func()\n",
    "    return wrapper_function\n",
    "\n",
    "@decorator_function #1\n",
    "def display(): #2\n",
    "    print(\"Display function ran\")\n",
    "    \n",
    "display()\n",
    "\n",
    "## lines marked 1 and 2 are similar to display = decorator_function(display)"
   ]
  },
  {
   "cell_type": "code",
   "execution_count": 30,
   "metadata": {},
   "outputs": [
    {
     "name": "stdout",
     "output_type": "stream",
     "text": [
      "Wrapper executed this before display\n",
      "****\n",
      "Display function ran\n",
      "Wrapper executed this before display_info\n",
      "****\n",
      "Display_info ran with arguments John, 25\n"
     ]
    }
   ],
   "source": [
    "def decorator_function(original_func):\n",
    "    def wrapper_function(*args, **kwargs):\n",
    "        print(\"Wrapper executed this before {}\".format(original_func.__name__))\n",
    "        print(\"****\")\n",
    "        return original_func(*args, **kwargs) #positional and keyword args\n",
    "    return wrapper_function\n",
    "\n",
    "@decorator_function \n",
    "def display():\n",
    "    print(\"Display function ran\")\n",
    "    \n",
    "@decorator_function\n",
    "def display_info(name, age):\n",
    "    print(\"Display_info ran with arguments {}, {}\".format(name, age))\n",
    "    \n",
    "display()\n",
    "display_info('John', 25)"
   ]
  },
  {
   "cell_type": "markdown",
   "metadata": {},
   "source": [
    "# Class as a decorator"
   ]
  },
  {
   "cell_type": "code",
   "execution_count": 31,
   "metadata": {},
   "outputs": [
    {
     "name": "stdout",
     "output_type": "stream",
     "text": [
      "Call method executed this before display\n",
      "Display function ran\n",
      "Call method executed this before display_info\n",
      "Display_info ran with arguments John, 25\n"
     ]
    }
   ],
   "source": [
    "def decorator_function(original_func):\n",
    "    def wrapper_function(*args, **kwargs):\n",
    "        print(\"Wrapper executed this before {}\".format(original_func.__name__))\n",
    "        print(\"****\")\n",
    "        return original_func(*args, **kwargs) #positional and keyword args\n",
    "    return wrapper_function\n",
    "\n",
    "class decorator_class:\n",
    "    \n",
    "    def __init__(self, original_function):\n",
    "        self.original_function = original_function\n",
    "        \n",
    "    def __call__(self, *args, **kwargs): # acts as a wrapper function\n",
    "        print(\"Call method executed this before {}\".format(self.original_function.__name__))\n",
    "        return self.original_function(*args, **kwargs)\n",
    "@decorator_class\n",
    "def display():\n",
    "    print(\"Display function ran\")\n",
    "    \n",
    "@decorator_class\n",
    "def display_info(name, age):\n",
    "    print(\"Display_info ran with arguments {}, {}\".format(name, age))\n",
    "    \n",
    "display()\n",
    "display_info('John', 25)"
   ]
  },
  {
   "cell_type": "markdown",
   "metadata": {},
   "source": [
    "# Practical examples\n",
    "\n",
    "Common usecase for decorators in python is logging and timing how long each function runs .\n"
   ]
  },
  {
   "cell_type": "code",
   "execution_count": 39,
   "metadata": {},
   "outputs": [
    {
     "name": "stdout",
     "output_type": "stream",
     "text": [
      "display_info ran with args Jane 25\n",
      "display_info ran with args Hank 30\n",
      "display ran\n",
      "display ran in 2.001721143722534 secs\n"
     ]
    }
   ],
   "source": [
    "import time\n",
    "\n",
    "def my_logger(original_func):\n",
    "    \n",
    "    import logging\n",
    "    logging.basicConfig(filename = '{}.log'.format(original_func.__name__), level= logging.INFO)\n",
    "    \n",
    "    def wrapper(*args, **kwargs):\n",
    "        logging.info(\n",
    "                    'ran with args {} and keyword args {}'.format(args, kwargs))\n",
    "        return original_func(*args, **kwargs)\n",
    "    \n",
    "    return wrapper\n",
    "\n",
    "def my_timer(original_func):\n",
    "      \n",
    "    def wrapper(*args, **kwargs):\n",
    "        \n",
    "        t1= time.time()\n",
    "        result = original_func(*args, **kwargs)\n",
    "        t2 = time.time() - t1\n",
    "        print(\"{} ran in {} secs\".format(original_func.__name__, t2))\n",
    "        \n",
    "        return result\n",
    "    \n",
    "    return wrapper\n",
    "    \n",
    "\n",
    "@my_logger\n",
    "def display_info(name, age):\n",
    "    print(\"display_info ran with args {} {}\".format(name, age))\n",
    "    \n",
    "display_info(\"Jane\", 25)\n",
    "display_info(\"Hank\", 30)\n",
    "\n",
    "\n",
    "@my_timer\n",
    "def display():\n",
    "    time.sleep(2)\n",
    "    print(\"display ran\")\n",
    "    \n",
    "display()"
   ]
  },
  {
   "cell_type": "markdown",
   "metadata": {},
   "source": [
    "chain decorators together"
   ]
  },
  {
   "cell_type": "code",
   "execution_count": 40,
   "metadata": {},
   "outputs": [
    {
     "name": "stdout",
     "output_type": "stream",
     "text": [
      "display_info ran with args ram 25\n",
      "display_info ran in 0.0 secs\n"
     ]
    }
   ],
   "source": [
    "@my_logger\n",
    "@my_timer\n",
    "def display_info(name, age):\n",
    "    print(\"display_info ran with args {} {}\".format(name, age))\n",
    "\n",
    "display_info('ram', 25)"
   ]
  },
  {
   "cell_type": "code",
   "execution_count": 41,
   "metadata": {},
   "outputs": [
    {
     "name": "stdout",
     "output_type": "stream",
     "text": [
      "display_info ran with args ram 25\n",
      "wrapper ran in 0.0010013580322265625 secs\n"
     ]
    }
   ],
   "source": [
    "@my_timer\n",
    "@my_logger\n",
    "def display_info(name, age):\n",
    "    print(\"display_info ran with args {} {}\".format(name, age))\n",
    "\n",
    "display_info('ram', 25)"
   ]
  },
  {
   "cell_type": "code",
   "execution_count": 43,
   "metadata": {},
   "outputs": [
    {
     "name": "stdout",
     "output_type": "stream",
     "text": [
      "display_info ran with args Jane 25\n",
      "display_info ran in 1.0010292530059814 secs\n",
      "display_info ran with args Hank 30\n",
      "display_info ran in 1.0020432472229004 secs\n"
     ]
    }
   ],
   "source": [
    "from functools import wraps\n",
    "import time\n",
    "\n",
    "def my_logger(original_func):\n",
    "    \n",
    "    import logging\n",
    "    logging.basicConfig(filename = '{}.log'.format(original_func.__name__), level= logging.INFO)\n",
    "    \n",
    "    @wraps(original_func)\n",
    "    def wrapper(*args, **kwargs):\n",
    "        logging.info(\n",
    "                    'ran with args {} and keyword args {}'.format(args, kwargs))\n",
    "        return original_func(*args, **kwargs)\n",
    "    \n",
    "    return wrapper\n",
    "\n",
    "def my_timer(original_func):\n",
    "    \n",
    "    @wraps(original_func)\n",
    "    def wrapper(*args, **kwargs):\n",
    "        \n",
    "        t1= time.time()\n",
    "        result = original_func(*args, **kwargs)\n",
    "        t2 = time.time() - t1\n",
    "        print(\"{} ran in {} secs\".format(original_func.__name__, t2))\n",
    "        \n",
    "        return result\n",
    "    \n",
    "    return wrapper\n",
    "\n",
    "\n",
    "@my_timer\n",
    "@my_logger\n",
    "def display_info(name, age):\n",
    "    time.sleep(1)\n",
    "    print(\"display_info ran with args {} {}\".format(name, age))\n",
    "    \n",
    "display_info(\"Jane\", 25)\n",
    "display_info(\"Hank\", 30)\n",
    "\n",
    "\n"
   ]
  },
  {
   "cell_type": "code",
   "execution_count": null,
   "metadata": {},
   "outputs": [],
   "source": []
  }
 ],
 "metadata": {
  "kernelspec": {
   "display_name": "Python 3",
   "language": "python",
   "name": "python3"
  },
  "language_info": {
   "codemirror_mode": {
    "name": "ipython",
    "version": 3
   },
   "file_extension": ".py",
   "mimetype": "text/x-python",
   "name": "python",
   "nbconvert_exporter": "python",
   "pygments_lexer": "ipython3",
   "version": "3.8.5"
  }
 },
 "nbformat": 4,
 "nbformat_minor": 4
}
