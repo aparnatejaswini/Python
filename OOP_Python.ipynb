{
 "cells": [
  {
   "cell_type": "markdown",
   "metadata": {},
   "source": [
    "# 1: Creating and Instantiating a simple class\n",
    "\n",
    "__Class__ allows us to logically group data and functions in a way that's easy to reuse and also easy to build upon if need be.\n",
    "    "
   ]
  },
  {
   "cell_type": "code",
   "execution_count": 15,
   "metadata": {
    "scrolled": true
   },
   "outputs": [
    {
     "name": "stdout",
     "output_type": "stream",
     "text": [
      "Aparna.Parkala@company.com\n",
      "Aparna\n",
      "Parkala\n",
      "50000\n",
      "Aparna Parkala\n",
      "\n",
      "Test.User@company.com\n",
      "Test\n",
      "User\n",
      "60000\n",
      "Test User\n",
      "\n",
      "Jane Smith\n"
     ]
    }
   ],
   "source": [
    "class Employee:\n",
    "    \n",
    "    def __init__(self, first, last, pay):\n",
    "        self.first = first\n",
    "        self.last = last\n",
    "        self.pay = pay\n",
    "        self.email = first + '.' + last +'@company.com'\n",
    "    \n",
    "    def fullname(self):\n",
    "        return '{} {}'.format(self.first, self.last)\n",
    "    \n",
    "    \n",
    "emp_1 = Employee('Aparna','Parkala', 50000)\n",
    "emp_2 = Employee('Test', 'User', 60000)\n",
    "emp_3 = Employee('Jane', 'Smith', 40000)\n",
    "\n",
    "print(emp_1.email)\n",
    "print(emp_1.first)\n",
    "print(emp_1.last)\n",
    "print(emp_1.pay)\n",
    "print(emp_1.fullname())\n",
    "\n",
    "print()\n",
    "\n",
    "print(emp_2.email)\n",
    "print(emp_2.first)\n",
    "print(emp_2.last)\n",
    "print(emp_2.pay)\n",
    "print(emp_2.fullname())\n",
    "\n",
    "print()\n",
    "\n",
    "print(Employee.fullname(emp_3))"
   ]
  },
  {
   "cell_type": "markdown",
   "metadata": {},
   "source": [
    "# 2: Class Variables\n",
    " \n",
    " __Class Variables__ are variables that are shared among all instances of a class.\n",
    " __Instance Variables__ are unique to each instance."
   ]
  },
  {
   "cell_type": "code",
   "execution_count": 29,
   "metadata": {},
   "outputs": [
    {
     "name": "stdout",
     "output_type": "stream",
     "text": [
      "Name space for Employee class:\n",
      "{'__module__': '__main__', 'raise_amount': 1.04, '__init__': <function Employee.__init__ at 0x000001F71BE3D550>, 'fullname': <function Employee.fullname at 0x000001F71BE3DCA0>, 'apply_raise': <function Employee.apply_raise at 0x000001F71BE3DD30>, '__dict__': <attribute '__dict__' of 'Employee' objects>, '__weakref__': <attribute '__weakref__' of 'Employee' objects>, '__doc__': None}\n",
      "\n",
      "Namespace for emp_1 object:\n",
      "{'first': 'Aparna', 'last': 'Parkala', 'pay': 50000, 'email': 'Aparna.Parkala@company.com'}\n",
      "\n",
      "raise_amount for Employee Class:  1.04\n",
      "raise_amount for emp_1 object:  1.04\n",
      "raise_amount for emp_2 object:  1.04\n",
      "\n",
      "pay after raise 52000.0\n",
      "\n",
      "Namespace for emp_1 object:\n",
      "{'first': 'Aparna', 'last': 'Parkala', 'pay': 52000.0, 'email': 'Aparna.Parkala@company.com', 'raise_amount': 1.05}\n",
      "\n",
      "raise_amount for Employee Class:  1.04\n",
      "raise_amount for emp_1 object:  1.05\n",
      "raise_amount for emp_2 object:  1.04\n",
      "\n",
      "pay after raise 54600.0\n"
     ]
    }
   ],
   "source": [
    "class Employee:\n",
    "    \n",
    "    raise_amount = 1.04 #class variable\n",
    "    \n",
    "    def __init__(self, first, last, pay):  #instance variables\n",
    "        self.first = first\n",
    "        self.last = last\n",
    "        self.pay = pay\n",
    "        self.email = first + '.' + last +'@company.com'\n",
    "    \n",
    "    def fullname(self):\n",
    "        return '{} {}'.format(self.first, self.last)\n",
    "    \n",
    "    def apply_raise(self):\n",
    "        self.pay = self.pay * self.raise_amount\n",
    "    \n",
    "emp_1 = Employee('Aparna','Parkala', 50000)\n",
    "emp_2 = Employee('Test', 'User', 60000)\n",
    "\n",
    "print('Name space for Employee class:',Employee.__dict__, sep ='\\n')\n",
    "print('\\nNamespace for emp_1 object:', emp_1.__dict__, sep='\\n')\n",
    "\n",
    "print('\\nraise_amount for Employee Class: ',Employee.raise_amount)\n",
    "print('raise_amount for emp_1 object: ',emp_1.raise_amount)\n",
    "print('raise_amount for emp_2 object: ',emp_2.raise_amount)\n",
    "\n",
    "emp_1.apply_raise()\n",
    "print('\\npay after raise', emp_1.pay)\n",
    "\n",
    "emp_1.raise_amount = 1.05\n",
    "print('\\nNamespace for emp_1 object:', emp_1.__dict__, sep='\\n')\n",
    "\n",
    "print('\\nraise_amount for Employee Class: ',Employee.raise_amount)\n",
    "print('raise_amount for emp_1 object: ',emp_1.raise_amount)\n",
    "print('raise_amount for emp_2 object: ',emp_2.raise_amount)\n",
    "\n",
    "emp_1.apply_raise()\n",
    "print('\\npay after raise', emp_1.pay)"
   ]
  },
  {
   "cell_type": "code",
   "execution_count": 37,
   "metadata": {},
   "outputs": [
    {
     "name": "stdout",
     "output_type": "stream",
     "text": [
      "\n",
      "pay after raise: 52000.0, raise amount: 1.04\n",
      "\n",
      "pay after raise: 52000.0, raise amount: 1.05\n"
     ]
    }
   ],
   "source": [
    "class Employee:\n",
    "    \n",
    "    raise_amount = 1.04 #class variable\n",
    "    \n",
    "    def __init__(self, first, last, pay):  #instance variables\n",
    "        self.first = first\n",
    "        self.last = last\n",
    "        self.pay = pay\n",
    "        self.email = first + '.' + last +'@company.com'\n",
    "    \n",
    "    def fullname(self):\n",
    "        return '{} {}'.format(self.first, self.last)\n",
    "    \n",
    "    def apply_raise(self):\n",
    "        self.pay = self.pay * Employee.raise_amount\n",
    "    \n",
    "emp_1 = Employee('Aparna','Parkala', 50000)\n",
    "emp_2 = Employee('Test', 'User', 60000)\n",
    "\n",
    "emp_1.apply_raise()\n",
    "print('\\npay after raise: {}, raise amount: {}'.format(emp_1.pay, emp_1.raise_amount))\n",
    "\n",
    "emp_1.raise_amount = 1.05\n",
    "emp_1.pay = 50000\n",
    "emp_1.apply_raise()\n",
    "print('\\npay after raise: {}, raise amount: {}'.format(emp_1.pay, emp_1.raise_amount))\n"
   ]
  },
  {
   "cell_type": "code",
   "execution_count": 40,
   "metadata": {},
   "outputs": [
    {
     "name": "stdout",
     "output_type": "stream",
     "text": [
      "Number of Employees:  0\n",
      "Number of Employees:  2\n"
     ]
    }
   ],
   "source": [
    "class Employee:\n",
    "    \n",
    "    num_of_emp = 0\n",
    "    raise_amount = 1.04 #class variable\n",
    "    \n",
    "    def __init__(self, first, last, pay):  #instance variables\n",
    "        self.first = first\n",
    "        self.last = last\n",
    "        self.pay = pay\n",
    "        self.email = first + '.' + last +'@company.com'\n",
    "        \n",
    "        Employee.num_of_emp += 1\n",
    "    \n",
    "    def fullname(self):\n",
    "        return '{} {}'.format(self.first, self.last)\n",
    "    \n",
    "    def apply_raise(self):\n",
    "        self.pay = self.pay * self.raise_amount\n",
    "        \n",
    "\n",
    "print('Number of Employees: ', Employee.num_of_emp)    \n",
    "emp_1 = Employee('Aparna','Parkala', 50000)\n",
    "emp_2 = Employee('Test', 'User', 60000)\n",
    "print('Number of Employees: ', Employee.num_of_emp)    \n",
    "\n"
   ]
  },
  {
   "cell_type": "markdown",
   "metadata": {},
   "source": [
    "# 3: Regular methods, Class methods and Static methods\n",
    "\n",
    "__Regular methods__ automatically pass instance as first argument and can be accessed through both class and an instance."
   ]
  },
  {
   "cell_type": "code",
   "execution_count": 43,
   "metadata": {},
   "outputs": [
    {
     "name": "stdout",
     "output_type": "stream",
     "text": [
      "1.04\n",
      "1.04\n",
      "1.04\n",
      "\n",
      "1.05\n",
      "1.05\n",
      "1.05\n"
     ]
    }
   ],
   "source": [
    "class Employee:\n",
    "    \n",
    "    num_of_emp = 0\n",
    "    raise_amount = 1.04 #class variable\n",
    "    \n",
    "    def __init__(self, first, last, pay):  #instance variables\n",
    "        self.first = first\n",
    "        self.last = last\n",
    "        self.pay = pay\n",
    "        self.email = first + '.' + last +'@company.com'\n",
    "        \n",
    "        Employee.num_of_emp += 1\n",
    "    \n",
    "    def fullname(self): #regular methods automatically pass instance as first argument\n",
    "        return '{} {}'.format(self.first, self.last) \n",
    "    \n",
    "    def apply_raise(self):\n",
    "        self.pay = self.pay * self.raise_amount\n",
    "        \n",
    "    @classmethod\n",
    "    def set_raise_amount(cls, amount): #class methods automatically pass class as first argument\n",
    "        cls.raise_amount=amount\n",
    "        \n",
    "\n",
    "emp_1 = Employee('Aparna','Parkala', 50000)\n",
    "emp_2 = Employee('Test', 'User', 60000)\n",
    "\n",
    "print(Employee.raise_amount)\n",
    "print(emp_1.raise_amount)\n",
    "print(emp_2.raise_amount)\n",
    "\n",
    "Employee.set_raise_amount(1.05)\n",
    "print()\n",
    "print(Employee.raise_amount)\n",
    "print(emp_1.raise_amount)\n",
    "print(emp_2.raise_amount)"
   ]
  },
  {
   "cell_type": "markdown",
   "metadata": {},
   "source": [
    "__Class methods__ can be used to modify class variables and can use class methods as alternative constructors."
   ]
  },
  {
   "cell_type": "code",
   "execution_count": 44,
   "metadata": {},
   "outputs": [
    {
     "name": "stdout",
     "output_type": "stream",
     "text": [
      "John.Doe@company.com\n",
      "70000\n"
     ]
    }
   ],
   "source": [
    "class Employee:\n",
    "    \n",
    "    num_of_emp = 0\n",
    "    raise_amount = 1.04\n",
    "    \n",
    "    def __init__(self, first, last, pay):  \n",
    "        self.first = first\n",
    "        self.last = last\n",
    "        self.pay = pay\n",
    "        self.email = first + '.' + last +'@company.com'\n",
    "        \n",
    "        Employee.num_of_emp += 1\n",
    "    \n",
    "    def fullname(self):\n",
    "        return '{} {}'.format(self.first, self.last) \n",
    "    \n",
    "    def apply_raise(self):\n",
    "        self.pay = self.pay * self.raise_amount\n",
    "        \n",
    "    @classmethod\n",
    "    def set_raise_amount(cls, amount): \n",
    "        cls.raise_amount=amount\n",
    "        \n",
    "    @classmethod\n",
    "    def from_string(cls, emp_str):#use it as an alternative constructor\n",
    "        first, last, pay = emp_str.split('-')\n",
    "        return cls(first, last, pay)\n",
    "        \n",
    "\n",
    "emp_1 = Employee('Aparna','Parkala', 50000)\n",
    "emp_2 = Employee('Test', 'User', 60000)\n",
    "\n",
    "emp_str_1 = 'John-Doe-70000'\n",
    "emp_str_2 = 'Steve-Smith-30000'\n",
    "\n",
    "new_emp_1 = Employee.from_string(emp_str_1)\n",
    "print(new_emp_1.email)\n",
    "print(new_emp_1.pay)"
   ]
  },
  {
   "cell_type": "markdown",
   "metadata": {},
   "source": [
    "__Static methods__ pass neither instance nor class automatically, we can pass in the arguments that we wanna work with.\n",
    "static methods don't operate on instance or class. They have some logical connection to the class but doesn't need class or instance as an argument."
   ]
  },
  {
   "cell_type": "code",
   "execution_count": 45,
   "metadata": {},
   "outputs": [
    {
     "name": "stdout",
     "output_type": "stream",
     "text": [
      "False\n"
     ]
    }
   ],
   "source": [
    "class Employee:\n",
    "    \n",
    "    num_of_emp = 0\n",
    "    raise_amount = 1.04\n",
    "    \n",
    "    def __init__(self, first, last, pay):  \n",
    "        self.first = first\n",
    "        self.last = last\n",
    "        self.pay = pay\n",
    "        self.email = first + '.' + last +'@company.com'\n",
    "        \n",
    "        Employee.num_of_emp += 1\n",
    "    \n",
    "    def fullname(self):\n",
    "        return '{} {}'.format(self.first, self.last) \n",
    "    \n",
    "    def apply_raise(self):\n",
    "        self.pay = self.pay * self.raise_amount\n",
    "        \n",
    "    @classmethod\n",
    "    def set_raise_amount(cls, amount): \n",
    "        cls.raise_amount=amount\n",
    "        \n",
    "    @classmethod\n",
    "    def from_string(cls, emp_str):\n",
    "        first, last, pay = emp_str.split('-')\n",
    "        return cls(first, last, pay)\n",
    "        \n",
    "    @staticmethod\n",
    "    def is_workday(day):\n",
    "        if day.weekday()==5 or day.weekday()==6:\n",
    "            return False\n",
    "        return True\n",
    "\n",
    "emp_1 = Employee('Aparna','Parkala', 50000)\n",
    "emp_2 = Employee('Test', 'User', 60000)\n",
    "\n",
    "import datetime\n",
    "my_date=datetime.date(2021, 4, 11)\n",
    "print(Employee.is_workday(my_date))"
   ]
  },
  {
   "cell_type": "markdown",
   "metadata": {},
   "source": [
    "# 4:  Inheritance\n",
    " __Inheritance__ allows us to inherit attributes and methods from a parent class. Can get all the functionality of a parent class, and we can overwrite or add completely new functionality without affecting parent class. Every class in python inherits from Object class. Ex: Whisky library\n"
   ]
  },
  {
   "cell_type": "code",
   "execution_count": 51,
   "metadata": {},
   "outputs": [
    {
     "name": "stdout",
     "output_type": "stream",
     "text": [
      "Aparna.Parkala@company.com\n",
      "Test.User@company.com\n",
      "\n",
      "Help on class Developer in module __main__:\n",
      "\n",
      "class Developer(Employee)\n",
      " |  Developer(first, last, pay)\n",
      " |  \n",
      " |  Method resolution order:\n",
      " |      Developer\n",
      " |      Employee\n",
      " |      builtins.object\n",
      " |  \n",
      " |  Methods inherited from Employee:\n",
      " |  \n",
      " |  __init__(self, first, last, pay)\n",
      " |      Initialize self.  See help(type(self)) for accurate signature.\n",
      " |  \n",
      " |  apply_raise(self)\n",
      " |  \n",
      " |  fullname(self)\n",
      " |  \n",
      " |  ----------------------------------------------------------------------\n",
      " |  Data descriptors inherited from Employee:\n",
      " |  \n",
      " |  __dict__\n",
      " |      dictionary for instance variables (if defined)\n",
      " |  \n",
      " |  __weakref__\n",
      " |      list of weak references to the object (if defined)\n",
      " |  \n",
      " |  ----------------------------------------------------------------------\n",
      " |  Data and other attributes inherited from Employee:\n",
      " |  \n",
      " |  raise_amount = 1.04\n",
      "\n",
      "None\n",
      "\n",
      "50000\n",
      "52000.0\n"
     ]
    }
   ],
   "source": [
    "class Employee:\n",
    "    \n",
    "    raise_amount = 1.04 #class variable\n",
    "    \n",
    "    def __init__(self, first, last, pay):  #instance variables\n",
    "        self.first = first\n",
    "        self.last = last\n",
    "        self.pay = pay\n",
    "        self.email = first + '.' + last +'@company.com'\n",
    "    \n",
    "    def fullname(self):\n",
    "        return '{} {}'.format(self.first, self.last)\n",
    "    \n",
    "    def apply_raise(self):\n",
    "        self.pay = self.pay * self.raise_amount\n",
    "    \n",
    "    \n",
    "class Developer(Employee): #inherits Employee class\n",
    "    pass\n",
    "\n",
    "dev_1 = Developer('Aparna','Parkala', 50000)\n",
    "dev_2 = Developer('Test', 'User', 60000)\n",
    "\n",
    "print(dev_1.email, dev_2.email, sep='\\n')\n",
    "print()\n",
    "print(help(Developer)) # Method Resolution Order\n",
    "print()\n",
    "print(dev_1.pay)\n",
    "dev_1.apply_raise()\n",
    "print(dev_1.pay)"
   ]
  },
  {
   "cell_type": "code",
   "execution_count": 52,
   "metadata": {},
   "outputs": [
    {
     "name": "stdout",
     "output_type": "stream",
     "text": [
      "50000\n",
      "55000.00000000001\n"
     ]
    }
   ],
   "source": [
    "class Employee:\n",
    "    \n",
    "    raise_amount = 1.04 #class variable\n",
    "    \n",
    "    def __init__(self, first, last, pay):  #instance variables\n",
    "        self.first = first\n",
    "        self.last = last\n",
    "        self.pay = pay\n",
    "        self.email = first + '.' + last +'@company.com'\n",
    "    \n",
    "    def fullname(self):\n",
    "        return '{} {}'.format(self.first, self.last)\n",
    "    \n",
    "    def apply_raise(self):\n",
    "        self.pay = self.pay * self.raise_amount\n",
    "    \n",
    "    \n",
    "class Developer(Employee): #inherits Employee class\n",
    "    raise_amount=1.10\n",
    "\n",
    "dev_1 = Developer('Aparna','Parkala', 50000)\n",
    "dev_2 = Developer('Test', 'User', 60000)\n",
    "\n",
    "print(dev_1.pay)\n",
    "dev_1.apply_raise()\n",
    "print(dev_1.pay)"
   ]
  },
  {
   "cell_type": "markdown",
   "metadata": {},
   "source": [
    "### super()"
   ]
  },
  {
   "cell_type": "code",
   "execution_count": 54,
   "metadata": {},
   "outputs": [
    {
     "name": "stdout",
     "output_type": "stream",
     "text": [
      "Aparna.Parkala@email.com\n",
      "Python\n"
     ]
    }
   ],
   "source": [
    "class Employee:\n",
    "    \n",
    "    raise_amount = 1.04 #class variable\n",
    "    \n",
    "    def __init__(self, first, last, pay):  #instance variables\n",
    "        self.first = first\n",
    "        self.last = last\n",
    "        self.pay = pay\n",
    "        self.email = first + '.' + last +'@email.com'\n",
    "    \n",
    "    def fullname(self):\n",
    "        return '{} {}'.format(self.first, self.last)\n",
    "    \n",
    "    def apply_raise(self):\n",
    "        self.pay = self.pay * self.raise_amount\n",
    "    \n",
    "    \n",
    "class Developer(Employee): #inherits Employee class\n",
    "    \n",
    "    raise_amount=1.10\n",
    "    \n",
    "    def __init__(self,first,last, pay, prog_lang):\n",
    "        super().__init__(first,last,pay) #single inheritance\n",
    "        self.prog_lang = prog_lang\n",
    "\n",
    "dev_1 = Developer('Aparna','Parkala', 50000, 'Python')\n",
    "\n",
    "print(dev_1.email)\n",
    "print(dev_1.prog_lang)"
   ]
  },
  {
   "cell_type": "code",
   "execution_count": 70,
   "metadata": {},
   "outputs": [
    {
     "name": "stdout",
     "output_type": "stream",
     "text": [
      "Sue.Smith@email.com\n",
      "--> Aparna Parkala\n",
      "\n",
      "--> Aparna Parkala\n",
      "--> Test User\n",
      "\n",
      "--> Test User\n"
     ]
    }
   ],
   "source": [
    "class Employee:\n",
    "    \n",
    "    raise_amount = 1.04 #class variable\n",
    "    \n",
    "    def __init__(self, first, last, pay):  #instance variables\n",
    "        self.first = first\n",
    "        self.last = last\n",
    "        self.pay = pay\n",
    "        self.email = first + '.' + last +'@email.com'\n",
    "    \n",
    "    def fullname(self):\n",
    "        return '{} {}'.format(self.first, self.last)\n",
    "    \n",
    "    def apply_raise(self):\n",
    "        self.pay = self.pay * self.raise_amount\n",
    "    \n",
    "    \n",
    "class Developer(Employee): #inherits Employee class\n",
    "    \n",
    "    raise_amount=1.10\n",
    "    \n",
    "    def __init__(self,first,last, pay, prog_lang):\n",
    "        super().__init__(first,last,pay) #single inheritance\n",
    "        self.prog_lang = prog_lang\n",
    "        \n",
    "class Manager(Employee):\n",
    "    \n",
    "    def __init__(self,first, last, pay, employees=[]):\n",
    "        super().__init__(first,last,pay)\n",
    "        if employees is []:\n",
    "            self.employees =[]\n",
    "        else:\n",
    "            self.employees = employees\n",
    "            \n",
    "    def add_employee(self, emp):\n",
    "        if emp not in self.employees:\n",
    "            self.employees.append(emp)\n",
    "            \n",
    "    def remove_employee(self, emp):\n",
    "        if emp in self.employees:\n",
    "            self.employees.remove(emp)\n",
    "            \n",
    "    def print_emps(self):\n",
    "        \n",
    "        for emp in self.employees:\n",
    "            print('--> {}'.format(emp.fullname()))\n",
    "\n",
    "dev_1 = Developer('Aparna','Parkala', 50000, 'Python')\n",
    "dev_2 = Developer('Test', 'User', 60000, 'Java')\n",
    "\n",
    "mgr_1 = Manager('Sue','Smith', 80000, [dev_1])\n",
    "print(mgr_1.email)\n",
    "mgr_1.print_emps()\n",
    "print()\n",
    "mgr_1.add_employee(dev_2)\n",
    "mgr_1.print_emps()\n",
    "print()\n",
    "mgr_1.remove_employee(dev_1)\n",
    "mgr_1.print_emps()\n"
   ]
  },
  {
   "cell_type": "markdown",
   "metadata": {},
   "source": [
    "__isinstance()__, __issubclass()__"
   ]
  },
  {
   "cell_type": "code",
   "execution_count": 72,
   "metadata": {},
   "outputs": [
    {
     "name": "stdout",
     "output_type": "stream",
     "text": [
      "True\n",
      "False\n",
      "True\n",
      "\n",
      "True\n",
      "False\n"
     ]
    }
   ],
   "source": [
    "print(isinstance(mgr_1, Employee))\n",
    "print(isinstance(mgr_1, Developer))\n",
    "print(isinstance(mgr_1, Manager))\n",
    "print()\n",
    "print(issubclass(Manager, Employee))\n",
    "print(issubclass(Manager, Developer))"
   ]
  },
  {
   "cell_type": "markdown",
   "metadata": {},
   "source": [
    "# 5: Special (Magic/Dunder) Methods\n",
    "\n",
    "Allow us to emulate some built-in behaviour within python and it's also how we implement operator overloading."
   ]
  },
  {
   "cell_type": "code",
   "execution_count": 74,
   "metadata": {},
   "outputs": [
    {
     "name": "stdout",
     "output_type": "stream",
     "text": [
      "[1, 2, 3, 4]\n",
      "[1, 2, 3, 4]\n",
      "Sample String\n",
      "'Sample String'\n"
     ]
    }
   ],
   "source": [
    "#str() vs repr()\n",
    "\n",
    "a = [1, 2, 3, 4]\n",
    "b = 'Sample String'\n",
    "\n",
    "print(str(a))\n",
    "print(repr(a))\n",
    "\n",
    "print(str(b))\n",
    "print(repr(b))"
   ]
  },
  {
   "cell_type": "code",
   "execution_count": 77,
   "metadata": {},
   "outputs": [
    {
     "name": "stdout",
     "output_type": "stream",
     "text": [
      "str(a): 2021-04-10 22:20:09.371229+00:00\n",
      "str(b): 2021-04-10 22:20:09.371229+00:00\n",
      "\n",
      "repr(a): datetime.datetime(2021, 4, 10, 22, 20, 9, 371229, tzinfo=<UTC>)\n",
      "repr(b): '2021-04-10 22:20:09.371229+00:00'\n"
     ]
    }
   ],
   "source": [
    "#The goal of __str__ is to be readable #for end users\n",
    "#The goal of __repr__ is to be unambiguous, helps in debugging, logging # for developers\n",
    "\n",
    "import datetime\n",
    "import pytz\n",
    "\n",
    "a = datetime.datetime.utcnow().replace(tzinfo=pytz.UTC)\n",
    "\n",
    "b = str(a)\n",
    "\n",
    "print('str(a): {}'.format(str(a)))\n",
    "print('str(b): {}'.format(str(b)))\n",
    "\n",
    "print()\n",
    "\n",
    "print('repr(a): {}'.format(repr(a)))\n",
    "print('repr(b): {}'.format(repr(b)))\n"
   ]
  },
  {
   "cell_type": "code",
   "execution_count": 82,
   "metadata": {},
   "outputs": [
    {
     "name": "stdout",
     "output_type": "stream",
     "text": [
      "Aparna Parkala - Aparna.Parkala@email.com\n",
      "\n",
      "Aparna Parkala - Aparna.Parkala@email.com\n",
      "Employee(Aparna, Parkala, 50000)\n",
      "\n",
      "Aparna Parkala - Aparna.Parkala@email.com\n",
      "Employee(Aparna, Parkala, 50000)\n"
     ]
    }
   ],
   "source": [
    "class Employee:\n",
    "    \n",
    "    raise_amount = 1.04 #class variable\n",
    "    \n",
    "    def __init__(self, first, last, pay):  #instance variables\n",
    "        self.first = first\n",
    "        self.last = last\n",
    "        self.pay = pay\n",
    "        self.email = first + '.' + last +'@email.com'\n",
    "    \n",
    "    def fullname(self):\n",
    "        return '{} {}'.format(self.first, self.last)\n",
    "    \n",
    "    def apply_raise(self):\n",
    "        self.pay = self.pay * self.raise_amount\n",
    "        \n",
    "    def __repr__(self):\n",
    "        return \"Employee({}, {}, {})\".format(self.first, self.last, self.pay)\n",
    "    \n",
    "    def __str__(self):\n",
    "        return \"{} - {}\".format(self.fullname(), self.email)\n",
    "    \n",
    "emp_1 = Employee('Aparna','Parkala', 50000)\n",
    "\n",
    "print(emp_1)\n",
    "print()\n",
    "print(str(emp_1))\n",
    "print(repr(emp_1))\n",
    "print()\n",
    "print(emp_1.__str__())\n",
    "print(emp_1.__repr__())      "
   ]
  },
  {
   "cell_type": "code",
   "execution_count": 88,
   "metadata": {},
   "outputs": [
    {
     "name": "stdout",
     "output_type": "stream",
     "text": [
      "110000\n",
      "4\n",
      "14\n"
     ]
    }
   ],
   "source": [
    "class Employee:\n",
    "    \n",
    "    raise_amount = 1.04 #class variable\n",
    "    \n",
    "    def __init__(self, first, last, pay):  #instance variables\n",
    "        self.first = first\n",
    "        self.last = last\n",
    "        self.pay = pay\n",
    "        self.email = first + '.' + last +'@email.com'\n",
    "    \n",
    "    def fullname(self):\n",
    "        return '{} {}'.format(self.first, self.last)\n",
    "    \n",
    "    def apply_raise(self):\n",
    "        self.pay = self.pay * self.raise_amount\n",
    "        \n",
    "    def __repr__(self):\n",
    "        return \"Employee({}, {}, {})\".format(self.first, self.last, self.pay)\n",
    "    \n",
    "    def __str__(self):\n",
    "        return \"{} - {}\".format(self.fullname(), self.email)\n",
    "    \n",
    "    def __add__(self, other): #operator overloading\n",
    "        return self.pay + other.pay\n",
    "    \n",
    "    def __len__(self):\n",
    "        return len(self.fullname())\n",
    "    \n",
    "emp_1 = Employee('Aparna','Parkala', 50000)\n",
    "emp_2 = Employee('Test', 'User', 60000)\n",
    "\n",
    "print(emp_1 + emp_2)\n",
    "\n",
    "print('test'.__len__()) #builtin len method from str class\n",
    "print(len(emp_1)) #operator overloading"
   ]
  },
  {
   "cell_type": "markdown",
   "metadata": {},
   "source": [
    "\n",
    "# 6: Property Decorators - Getters, Setters and Deleters functionality\n",
    "\n"
   ]
  },
  {
   "cell_type": "code",
   "execution_count": 89,
   "metadata": {},
   "outputs": [
    {
     "name": "stdout",
     "output_type": "stream",
     "text": [
      "Jim\n",
      "John.Smith@email.com\n",
      "Jim Smith\n"
     ]
    }
   ],
   "source": [
    "class Employee:\n",
    "      \n",
    "    def __init__(self, first, last):  #instance variables\n",
    "        self.first = first\n",
    "        self.last = last\n",
    "        self.email = first + '.' + last +'@email.com'\n",
    "    \n",
    "    def fullname(self):\n",
    "        return '{} {}'.format(self.first, self.last)\n",
    "    \n",
    "       \n",
    "emp_1 = Employee('John','Smith')\n",
    "\n",
    "emp_1.first = 'Jim'\n",
    "print(emp_1.first)\n",
    "print(emp_1.email)\n",
    "print(emp_1.fullname())"
   ]
  },
  {
   "cell_type": "code",
   "execution_count": 92,
   "metadata": {},
   "outputs": [
    {
     "name": "stdout",
     "output_type": "stream",
     "text": [
      "Jim\n",
      "Jim.Smith@email.com\n",
      "Jim Smith\n"
     ]
    }
   ],
   "source": [
    "#property decorator\n",
    "class Employee:\n",
    "      \n",
    "    def __init__(self, first, last):  #instance variables\n",
    "        self.first = first\n",
    "        self.last = last\n",
    "\n",
    "    @property    \n",
    "    def email(self): #defining email as a method, but we are able to access it like an attribute\n",
    "        return '{}.{}@email.com'.format(self.first, self.last)\n",
    "\n",
    "    @property\n",
    "    def fullname(self):\n",
    "        return '{} {}'.format(self.first, self.last)\n",
    "    \n",
    "       \n",
    "emp_1 = Employee('John','Smith')\n",
    "\n",
    "emp_1.first = 'Jim'\n",
    "print(emp_1.first)\n",
    "print(emp_1.email)\n",
    "print(emp_1.fullname)"
   ]
  },
  {
   "cell_type": "markdown",
   "metadata": {},
   "source": [
    "__property decorator__ - allows us to access attributes without putting getters and setters everywhere. If used correctly, peopele using that class won't need to change any of their code\n"
   ]
  },
  {
   "cell_type": "code",
   "execution_count": 95,
   "metadata": {},
   "outputs": [
    {
     "name": "stdout",
     "output_type": "stream",
     "text": [
      "Harry\n",
      "Harry.Hank@email.com\n",
      "Harry Hank\n",
      "\n",
      "Delete Name!\n",
      "None\n",
      "None.None@email.com\n",
      "None None\n"
     ]
    }
   ],
   "source": [
    "class Employee:\n",
    "      \n",
    "    def __init__(self, first, last):  #instance variables\n",
    "        self.first = first\n",
    "        self.last = last\n",
    "\n",
    "    @property    \n",
    "    def email(self): #defining email as a method, but we are able to access it like an attribute\n",
    "        return '{}.{}@email.com'.format(self.first, self.last)\n",
    "\n",
    "    @property\n",
    "    def fullname(self):\n",
    "        return '{} {}'.format(self.first, self.last)\n",
    "    \n",
    "    @fullname.setter\n",
    "    def fullname(self, name):\n",
    "        first, last = name.split(' ')\n",
    "        self.first = first\n",
    "        self.last = last\n",
    "        \n",
    "    @fullname.deleter\n",
    "    def fullname(self):\n",
    "        print(\"Delete Name!\")\n",
    "        self.first = None\n",
    "        self.last = None\n",
    "       \n",
    "emp_1 = Employee('John','Smith')\n",
    "emp_1.fullname = 'Harry Hank'\n",
    "\n",
    "print(emp_1.first)\n",
    "print(emp_1.email)\n",
    "print(emp_1.fullname)\n",
    "print()\n",
    "del(emp_1.fullname)\n",
    "print(emp_1.first)\n",
    "print(emp_1.email)\n",
    "print(emp_1.fullname)"
   ]
  },
  {
   "cell_type": "code",
   "execution_count": null,
   "metadata": {},
   "outputs": [],
   "source": []
  }
 ],
 "metadata": {
  "kernelspec": {
   "display_name": "Python 3",
   "language": "python",
   "name": "python3"
  },
  "language_info": {
   "codemirror_mode": {
    "name": "ipython",
    "version": 3
   },
   "file_extension": ".py",
   "mimetype": "text/x-python",
   "name": "python",
   "nbconvert_exporter": "python",
   "pygments_lexer": "ipython3",
   "version": "3.8.5"
  }
 },
 "nbformat": 4,
 "nbformat_minor": 4
}
